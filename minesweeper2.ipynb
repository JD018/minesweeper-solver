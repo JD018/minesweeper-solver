{
 "cells": [
  {
   "cell_type": "code",
   "execution_count": 49,
   "metadata": {},
   "outputs": [],
   "source": [
    "########################\n",
    "## Minesweeper Solver ##\n",
    "### Created by Jadon ###\n",
    "########################\n",
    "\n",
    "# Setup: Google Minesweeper, Easy Mode\n",
    "\n",
    "# Libraries\n",
    "import win32api as wa\n",
    "import win32gui as wg\n",
    "import pyautogui as pg\n",
    "import keyboard\n",
    "import time"
   ]
  },
  {
   "cell_type": "code",
   "execution_count": 50,
   "metadata": {},
   "outputs": [
    {
     "name": "stdout",
     "output_type": "stream",
     "text": [
      "['?', '?', '?', '?', '?', '?', '?', '?', '?', '?']\n",
      "['?', '?', '?', '?', '?', '?', '?', '?', '?', '?']\n",
      "['?', '?', '?', '?', '?', '?', '?', '?', '?', '?']\n",
      "['?', '?', '?', '?', '?', '?', '?', '?', '?', '?']\n",
      "['?', '?', '?', '?', '?', '?', '?', '?', '?', '?']\n",
      "['?', '?', '?', '?', '?', '?', '?', '?', '?', '?']\n",
      "['?', '?', '?', '?', '?', '?', '?', '?', '?', '?']\n",
      "['?', '?', '?', '?', '?', '?', '?', '?', '?', '?']\n"
     ]
    }
   ],
   "source": [
    "# Board Data Setup\n",
    "data = []\n",
    "for y in range(8): data.append(['?' for x in range(10)])\n",
    "\n",
    "def clear_data():\n",
    "    data = []\n",
    "    for y in range(8): data.append(['?' for x in range(10)])\n",
    "\n",
    "def print_board():\n",
    "    for i in data:\n",
    "        print(i)\n",
    "\n",
    "print_board()"
   ]
  },
  {
   "cell_type": "code",
   "execution_count": 51,
   "metadata": {},
   "outputs": [],
   "source": [
    "# Returns the Value of an Individual Box\n",
    "def find(x, y):\n",
    "    color = wg.GetPixel(wg.GetDC(wg.GetActiveWindow()), x, y)\n",
    "    if color == 13792793: return '1'  # Blue, 1\n",
    "    if color == 3968568: return '2'  # Dark Green, 2\n",
    "    if color == 3092435: return '3'  # Red, 3\n",
    "    if color == 10624891: return '4'  # Does not work due to location, 4\n",
    "    if color == 5363626 or color == 4837794: return \"?\"  # Light and Medium Greens, ?\n",
    "    if color == 10470117 or color == 10074327: return \" \"  # Light Browns, -\n",
    "    else: print(\"Error!\"); return \"E\"  # Other, E"
   ]
  },
  {
   "cell_type": "code",
   "execution_count": 52,
   "metadata": {},
   "outputs": [],
   "source": [
    "# Updates the Data List from the Minesweeper Website\n",
    "def update(move_cursor=False):\n",
    "    y_pos = 232\n",
    "    for y in range(8):\n",
    "        x_pos = 31\n",
    "        for x in range(10):\n",
    "            if data[y][x] != \"!\": data[y][x] = find(round(x_pos), round(y_pos))\n",
    "            if move_cursor: wa.SetCursorPos((round(x_pos), round(y_pos)))\n",
    "            x_pos += 56.3\n",
    "        y_pos += 56.3\n",
    "\n",
    "# update(True)\n",
    "# print_board()"
   ]
  },
  {
   "cell_type": "code",
   "execution_count": 53,
   "metadata": {},
   "outputs": [],
   "source": [
    "# Begins Game\n",
    "def start(corner=False):\n",
    "    if corner:\n",
    "        wa.SetCursorPos((1, 205))\n",
    "        pg.leftClick()\n",
    "        pg.hotkey('ctrl','r')\n",
    "        pg.leftClick()\n",
    "    else:\n",
    "        wa.SetCursorPos((283, 430))\n",
    "        pg.leftClick()\n",
    "        pg.hotkey('ctrl','r')\n",
    "        pg.leftClick()"
   ]
  },
  {
   "cell_type": "code",
   "execution_count": 54,
   "metadata": {},
   "outputs": [],
   "source": [
    "# Makes a Wait Function\n",
    "def wait(s): time.sleep(s)"
   ]
  },
  {
   "cell_type": "code",
   "execution_count": 55,
   "metadata": {},
   "outputs": [],
   "source": [
    "def move(y, x): wa.SetCursorPos((31 + round(56.3*x), 232 + round(56.3*y)))"
   ]
  },
  {
   "cell_type": "code",
   "execution_count": 56,
   "metadata": {},
   "outputs": [],
   "source": [
    "# Check for Possible Mines\n",
    "def check_mines():\n",
    "    for y in range(len(data)):\n",
    "        for x in range(len(data[0])):\n",
    "            unknown = 0\n",
    "            try: n = int(data[y][x])\n",
    "            except: continue\n",
    "            if n >= 1 and n <= 8:\n",
    "                for a in [-1, 0, 1]:\n",
    "                    for b in [-1, 0, 1]:\n",
    "                        if y+a >= 0 and y+a < 8 and x+b >= 0 and x+b < 10:\n",
    "                            if data[y+a][x+b] == \"?\" or data[y+a][x+b] == \"!\":\n",
    "                                unknown += 1\n",
    "            if unknown == n:\n",
    "                for a in [-1, 0, 1]:\n",
    "                    for b in [-1, 0, 1]:\n",
    "                        if y+a >= 0 and y+a < 8 and x+b >= 0 and x+b < 10:\n",
    "                            if data[y+a][x+b] == \"?\" and data[y+a][x+b] != \"!\":\n",
    "                                data[y+a][x+b] = \"!\"\n",
    "                                move(y+a, x+b)\n",
    "                                pg.rightClick()"
   ]
  },
  {
   "cell_type": "code",
   "execution_count": 57,
   "metadata": {},
   "outputs": [],
   "source": [
    "# Clear Safe Tiles\n",
    "def check_safe():\n",
    "    for y in range(len(data)):\n",
    "        for x in range(len(data[0])):\n",
    "            flagged = 0\n",
    "            try: n = int(data[y][x])\n",
    "            except: continue\n",
    "            if n >= 1 and n <= 8:\n",
    "                for a in [-1, 0, 1]:\n",
    "                    for b in [-1, 0, 1]:\n",
    "                        if y+a >= 0 and y+a < 8 and x+b >= 0 and x+b < 10:\n",
    "                            if data[y+a][x+b] == \"!\":\n",
    "                                flagged += 1\n",
    "            if flagged == n:\n",
    "                for a in [-1, 0, 1]:\n",
    "                    for b in [-1, 0, 1]:\n",
    "                        if y+a >= 0 and y+a < 8 and x+b >= 0 and x+b < 10:\n",
    "                            if data[y+a][x+b] == \"?\" and data[y+a][x+b] != \"!\":\n",
    "                                data[y+a][x+b] = \"?\"\n",
    "                                move(y+a, x+b)\n",
    "                                pg.leftClick()"
   ]
  },
  {
   "cell_type": "code",
   "execution_count": 58,
   "metadata": {},
   "outputs": [],
   "source": [
    "# Checks Total Mines Found\n",
    "def discovered():\n",
    "    mines = 0\n",
    "    for i in data:\n",
    "        for j in i:\n",
    "            if j == \"!\": mines += 1\n",
    "    return mines"
   ]
  },
  {
   "cell_type": "code",
   "execution_count": 59,
   "metadata": {},
   "outputs": [],
   "source": [
    "# Removes Tiles when All Mines are Found\n",
    "def finish():\n",
    "    for i in range(len(data)):\n",
    "        for j in range(len(data[0])):\n",
    "            if data[i][j] == \"?\": move(i, j); pg.leftClick()"
   ]
  },
  {
   "cell_type": "code",
   "execution_count": 60,
   "metadata": {},
   "outputs": [
    {
     "name": "stdout",
     "output_type": "stream",
     "text": [
      "[' ', ' ', '1', '?', '?', '?', '?', '?', '?', '?']\n",
      "[' ', ' ', '1', '2', '?', '?', '2', '1', '2', '?']\n",
      "[' ', ' ', ' ', '1', '?', '2', '1', ' ', '2', '?']\n",
      "[' ', ' ', ' ', '1', '1', '1', ' ', ' ', '1', '?']\n",
      "['1', '1', ' ', ' ', ' ', ' ', '1', '1', '2', '?']\n",
      "['?', '1', '1', '1', '1', ' ', '1', '?', '?', '?']\n",
      "['?', '?', '?', '?', '1', ' ', '1', '2', '?', '?']\n",
      "['?', '?', '?', '?', '1', ' ', ' ', '1', '?', '?']\n",
      "Error!\n",
      "Error!\n",
      "Error!\n",
      "Error!\n",
      "Error!\n",
      "Error!\n",
      "Error!\n",
      "Error!\n",
      "Error!\n",
      "Error!\n",
      "Error!\n",
      "Error!\n",
      "Error!\n",
      "Error!\n",
      "Error!\n",
      "Error!\n",
      "Error!\n"
     ]
    }
   ],
   "source": [
    "clear_data()\n",
    "start()\n",
    "wait(1)\n",
    "update(False)\n",
    "print_board()\n",
    "while discovered() < 10:\n",
    "    check_mines()\n",
    "    check_safe()\n",
    "    update(False)\n",
    "finish()"
   ]
  }
 ],
 "metadata": {
  "kernelspec": {
   "display_name": "Python 3",
   "language": "python",
   "name": "python3"
  },
  "language_info": {
   "codemirror_mode": {
    "name": "ipython",
    "version": 3
   },
   "file_extension": ".py",
   "mimetype": "text/x-python",
   "name": "python",
   "nbconvert_exporter": "python",
   "pygments_lexer": "ipython3",
   "version": "3.10.9"
  },
  "orig_nbformat": 4
 },
 "nbformat": 4,
 "nbformat_minor": 2
}
