{
 "cells": [
  {
   "cell_type": "code",
   "execution_count": 1,
   "metadata": {},
   "outputs": [],
   "source": [
    "import win32api as wa\n",
    "import win32gui as wg\n",
    "import pyautogui as pg\n",
    "import keyboard\n",
    "import time"
   ]
  },
  {
   "cell_type": "code",
   "execution_count": 2,
   "metadata": {},
   "outputs": [],
   "source": [
    "def check_mouse_color(x, y):  # For Programming\n",
    "    color = wg.GetPixel(wg.GetDC(wg.GetActiveWindow()), x, y)\n",
    "    return color"
   ]
  },
  {
   "cell_type": "code",
   "execution_count": 6,
   "metadata": {},
   "outputs": [
    {
     "name": "stdout",
     "output_type": "stream",
     "text": [
      "279 287\n",
      "13792794\n",
      "402 249\n",
      "13792793\n",
      "529 416\n",
      "13793050\n",
      "529 672\n",
      "13793050\n",
      "650 656\n",
      "3968568\n",
      "650 656\n",
      "3968568\n",
      "636 802\n",
      "3968568\n"
     ]
    }
   ],
   "source": [
    "while True:\n",
    "    if keyboard.is_pressed('q'):\n",
    "        x, y = pg.position()\n",
    "        print(x, y)\n",
    "        time.sleep(2)\n",
    "        print(check_mouse_color(x, y))\n",
    "        time.sleep(1)"
   ]
  }
 ],
 "metadata": {
  "kernelspec": {
   "display_name": "Python 3",
   "language": "python",
   "name": "python3"
  },
  "language_info": {
   "codemirror_mode": {
    "name": "ipython",
    "version": 3
   },
   "file_extension": ".py",
   "mimetype": "text/x-python",
   "name": "python",
   "nbconvert_exporter": "python",
   "pygments_lexer": "ipython3",
   "version": "3.10.9"
  },
  "orig_nbformat": 4
 },
 "nbformat": 4,
 "nbformat_minor": 2
}
